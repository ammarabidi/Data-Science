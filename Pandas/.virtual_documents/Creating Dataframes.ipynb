import pandas as pd
import numpy as np


data = [['ammar',34], ['Jill',67], ['Shubham',67]]


data


pd.DataFrame(data, columns=["Name","Marks"], index = ["A","B","C"])


data = {"a": [4,6,3], "b": [56,34,343]}


df = pd.DataFrame(data)
df


arr = np.array([[1,2], [5,6]])


df = pd.DataFrame(arr, columns = ["A","B"])
df


df = pd.read_excel("data.xlsx")


df


df = pd.read_csv("data.csv")


df


df = pd.read_json("data.json")


df


df.head()


df =pd.read_csv("https://raw.githubusercontent.com/mwaskom/seaborn-data/master/tips.csv")


df.head()


df.tail()


df.info()


df.describe()


df.columns


df.shape
