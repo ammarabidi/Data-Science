{
 "cells": [
  {
   "cell_type": "code",
   "execution_count": 20,
   "id": "6af48e36-203f-4a16-8f99-cb46ce05fb12",
   "metadata": {},
   "outputs": [],
   "source": [
    "import pandas as pd"
   ]
  },
  {
   "cell_type": "code",
   "execution_count": 21,
   "id": "a10d853b-1632-4e0d-952d-65b49d7cdb1b",
   "metadata": {},
   "outputs": [],
   "source": [
    "s1 = pd.Series([71,84,56,23,56,98,56])"
   ]
  },
  {
   "cell_type": "code",
   "execution_count": 22,
   "id": "c01ee7be-5eab-4b8b-8c71-d3303344a72d",
   "metadata": {},
   "outputs": [
    {
     "data": {
      "text/plain": [
       "pandas.core.series.Series"
      ]
     },
     "execution_count": 22,
     "metadata": {},
     "output_type": "execute_result"
    }
   ],
   "source": [
    "type(s1)"
   ]
  },
  {
   "cell_type": "code",
   "execution_count": 23,
   "id": "0ef4549d-4db9-42b4-baea-54f8177f9bf6",
   "metadata": {},
   "outputs": [],
   "source": [
    "s2 = pd.Series([71,84,56,23,56,98,56], index=[\"Harry\", \"Shubh\", \"Rohan\", \"Aakash\", \"Kirti\", \"John\",\"Rehan\"]) "
   ]
  },
  {
   "cell_type": "code",
   "execution_count": 24,
   "id": "a80d7ed1-b0ca-455b-89bf-6053f74ef4cd",
   "metadata": {},
   "outputs": [
    {
     "data": {
      "text/plain": [
       "Harry     71\n",
       "Shubh     84\n",
       "Rohan     56\n",
       "Aakash    23\n",
       "Kirti     56\n",
       "John      98\n",
       "Rehan     56\n",
       "dtype: int64"
      ]
     },
     "execution_count": 24,
     "metadata": {},
     "output_type": "execute_result"
    }
   ],
   "source": [
    "s2"
   ]
  },
  {
   "cell_type": "code",
   "execution_count": 25,
   "id": "e88ae05c-ef64-4c0d-968e-9aaffb168db4",
   "metadata": {},
   "outputs": [
    {
     "data": {
      "text/plain": [
       "71"
      ]
     },
     "execution_count": 25,
     "metadata": {},
     "output_type": "execute_result"
    }
   ],
   "source": [
    "s2[\"Harry\"]"
   ]
  },
  {
   "cell_type": "code",
   "execution_count": 26,
   "id": "a6f9d273-18c1-4f4f-aba3-3d78f0700f9e",
   "metadata": {},
   "outputs": [
    {
     "data": {
      "text/plain": [
       "56"
      ]
     },
     "execution_count": 26,
     "metadata": {},
     "output_type": "execute_result"
    }
   ],
   "source": [
    "s2[\"Kirti\"]"
   ]
  },
  {
   "cell_type": "code",
   "execution_count": 27,
   "id": "63f741d1-d4e3-4779-8155-e4eae3e3ea06",
   "metadata": {},
   "outputs": [],
   "source": [
    "data = {\n",
    "    \"name\": [\"Alice\", \"Bob\", \"Charlie\"],\n",
    "    \"age\": [25, 30, 35],\n",
    "    \"city\": [\"Delhi\", \"Mumbai\", \"Bangalore\"]\n",
    "}\n",
    " \n"
   ]
  },
  {
   "cell_type": "code",
   "execution_count": 28,
   "id": "96212de6-a54e-4223-8558-10439b018b80",
   "metadata": {},
   "outputs": [],
   "source": [
    "df = pd.DataFrame(data)"
   ]
  },
  {
   "cell_type": "code",
   "execution_count": 29,
   "id": "9d7ec860-7b07-4572-8765-9a9ed5bc1e00",
   "metadata": {},
   "outputs": [
    {
     "data": {
      "text/plain": [
       "RangeIndex(start=0, stop=3, step=1)"
      ]
     },
     "execution_count": 29,
     "metadata": {},
     "output_type": "execute_result"
    }
   ],
   "source": [
    "df.index"
   ]
  },
  {
   "cell_type": "code",
   "execution_count": 30,
   "id": "141c278f-d81e-4a51-88b9-ad36611538d3",
   "metadata": {},
   "outputs": [
    {
     "data": {
      "text/plain": [
       "Index(['name', 'age', 'city'], dtype='object')"
      ]
     },
     "execution_count": 30,
     "metadata": {},
     "output_type": "execute_result"
    }
   ],
   "source": [
    "df.columns"
   ]
  },
  {
   "cell_type": "code",
   "execution_count": null,
   "id": "a733c534-2b2d-4efe-9b4c-f86bd63d57a4",
   "metadata": {},
   "outputs": [],
   "source": []
  }
 ],
 "metadata": {
  "kernelspec": {
   "display_name": "base",
   "language": "python",
   "name": "python3"
  },
  "language_info": {
   "codemirror_mode": {
    "name": "ipython",
    "version": 3
   },
   "file_extension": ".py",
   "mimetype": "text/x-python",
   "name": "python",
   "nbconvert_exporter": "python",
   "pygments_lexer": "ipython3",
   "version": "3.12.7"
  }
 },
 "nbformat": 4,
 "nbformat_minor": 5
}
