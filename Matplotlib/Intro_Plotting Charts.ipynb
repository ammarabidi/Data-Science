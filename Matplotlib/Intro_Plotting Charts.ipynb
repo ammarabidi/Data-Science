{
 "cells": [
  {
   "cell_type": "code",
   "execution_count": null,
   "id": "31b4b5cc",
   "metadata": {},
   "outputs": [],
   "source": [
    "import matplotlib.pyplot as plt"
   ]
  },
  {
   "cell_type": "code",
   "execution_count": null,
   "id": "7d0fc6ab",
   "metadata": {},
   "outputs": [],
   "source": [
    "plt.plot([1,2,3], [4,5,6])\n",
    "\n",
    "plt.show()"
   ]
  },
  {
   "cell_type": "code",
   "execution_count": null,
   "id": "23cef190",
   "metadata": {},
   "outputs": [],
   "source": [
    "years = [1990, 1992, 1994, 1996, 1998, 2000, 2003, 2005, 2007, 2010]\n",
    "runs =  [500, 700, 1100, 1500, 1800, 1200, 1700, 1300, 900, 1500]\n",
    "\n",
    "plt.plot(years, runs)"
   ]
  },
  {
   "cell_type": "code",
   "execution_count": null,
   "id": "69d9d188",
   "metadata": {},
   "outputs": [],
   "source": [
    "plt.plot(years, runs)\n",
    "plt.xlabel(\"Year\")\n",
    "plt.ylabel(\"Runs Scored\")\n",
    "plt.title(\"Sachin Tendulkar's Yearly Runs\")"
   ]
  },
  {
   "cell_type": "code",
   "execution_count": null,
   "id": "02fd1132",
   "metadata": {},
   "outputs": [],
   "source": [
    "kohli = [0, 0, 500, 800, 1100, 1300, 1500, 1800, 1900, 2100]\n",
    "sehwag = [0, 300, 800, 1200, 1500, 1700, 1600, 1400, 1000, 0]\n",
    "\n",
    "plt.plot(years, kohli, label=\"Virat Kohli\")\n",
    "plt.plot(years, sehwag, label=\"Virender Sehwag\")\n",
    "\n",
    "plt.xlabel(\"Year\")\n",
    "plt.ylabel(\"Runs Scored\")\n",
    "plt.title(\"Performance Comparison\")\n",
    "plt.legend()\n",
    "plt.show()"
   ]
  },
  {
   "cell_type": "code",
   "execution_count": null,
   "id": "510087e9",
   "metadata": {},
   "outputs": [],
   "source": [
    "plt.plot(years, kohli, 'ro--', label=\"Kohli\")  # red circles with dashed lines\n",
    "plt.plot(years, sehwag, 'g^:', label=\"Sehwag\")  # green triangles dotted\n",
    "plt.legend()"
   ]
  },
  {
   "cell_type": "code",
   "execution_count": null,
   "id": "bf957599",
   "metadata": {},
   "outputs": [],
   "source": [
    "plt.style.use('ggplot')"
   ]
  },
  {
   "cell_type": "code",
   "execution_count": null,
   "id": "92f85fad",
   "metadata": {},
   "outputs": [],
   "source": [
    "plt.plot(years, kohli, color='orange', linestyle='--',linewidth=3, label=\"Kohli\")\n",
    "plt.plot(years, sehwag, color='green', linestyle='-.', label=\"Sehwag\")\n",
    "plt.plot(years, runs, color='blue', label=\"Tendulkar\")\n",
    "plt.grid(True)\n",
    "plt.legend()"
   ]
  },
  {
   "cell_type": "code",
   "execution_count": null,
   "id": "b2186425",
   "metadata": {},
   "outputs": [],
   "source": [
    "with plt.xkcd():\n",
    "    plt.plot(years, kohli, color='orange', linestyle='--',linewidth=3, label=\"Kohli\")\n",
    "    plt.plot(years, sehwag, color='green', linestyle='-.', label=\"Sehwag\")\n",
    "    plt.plot(years, runs, color='blue', label=\"Tendulkar\")\n",
    "    plt.grid(True)\n",
    "    plt.legend()"
   ]
  },
  {
   "cell_type": "code",
   "execution_count": null,
   "id": "8a3241c6",
   "metadata": {},
   "outputs": [],
   "source": []
  }
 ],
 "metadata": {
  "kernelspec": {
   "display_name": "base",
   "language": "python",
   "name": "python3"
  },
  "language_info": {
   "codemirror_mode": {
    "name": "ipython",
    "version": 3
   },
   "file_extension": ".py",
   "mimetype": "text/x-python",
   "name": "python",
   "nbconvert_exporter": "python",
   "pygments_lexer": "ipython3",
   "version": "3.12.7"
  }
 },
 "nbformat": 4,
 "nbformat_minor": 5
}
