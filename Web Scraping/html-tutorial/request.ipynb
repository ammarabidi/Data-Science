{
 "cells": [
  {
   "cell_type": "code",
   "execution_count": 7,
   "id": "aecb6f1e",
   "metadata": {},
   "outputs": [],
   "source": [
    "import requests"
   ]
  },
  {
   "cell_type": "code",
   "execution_count": 10,
   "id": "cfe35b15",
   "metadata": {},
   "outputs": [],
   "source": [
    "a = requests.get(\"https://books.toscrape.com/\")"
   ]
  },
  {
   "cell_type": "code",
   "execution_count": 11,
   "id": "7bc7ba75",
   "metadata": {},
   "outputs": [],
   "source": [
    "with open(f\"htmls/page1.html\", \"w\") as f:\n",
    "    f.write(a.text) "
   ]
  },
  {
   "cell_type": "code",
   "execution_count": null,
   "id": "aa859eaa",
   "metadata": {},
   "outputs": [],
   "source": []
  }
 ],
 "metadata": {
  "kernelspec": {
   "display_name": "base",
   "language": "python",
   "name": "python3"
  },
  "language_info": {
   "codemirror_mode": {
    "name": "ipython",
    "version": 3
   },
   "file_extension": ".py",
   "mimetype": "text/x-python",
   "name": "python",
   "nbconvert_exporter": "python",
   "pygments_lexer": "ipython3",
   "version": "3.12.7"
  }
 },
 "nbformat": 4,
 "nbformat_minor": 5
}
