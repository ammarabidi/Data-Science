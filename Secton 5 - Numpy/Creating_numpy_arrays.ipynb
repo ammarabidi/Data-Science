{
 "cells": [
  {
   "cell_type": "code",
   "execution_count": 49,
   "id": "b89d206f-0f7d-4bd4-b823-a0a0e2202dc1",
   "metadata": {},
   "outputs": [],
   "source": [
    "import numpy as np"
   ]
  },
  {
   "cell_type": "code",
   "execution_count": 50,
   "id": "1bf60550-87db-4780-8120-d3b94ff672e9",
   "metadata": {
    "scrolled": true
   },
   "outputs": [
    {
     "name": "stdout",
     "output_type": "stream",
     "text": [
      "[1 2 3 4 5]\n",
      "[[1 2 3]\n",
      " [4 5 6]]\n"
     ]
    }
   ],
   "source": [
    "# from python lists:\n",
    "arr1 = np.array([1, 2, 3, 4, 5])\n",
    "arr2 = np.array([[1,2,3], [4,5,6]])\n",
    "\n",
    "print(arr1)\n",
    "print(arr2)"
   ]
  },
  {
   "cell_type": "code",
   "execution_count": 51,
   "id": "39c9ac9c-128f-4073-9d24-2d525af82d03",
   "metadata": {},
   "outputs": [
    {
     "data": {
      "text/plain": [
       "array([[0., 0., 0., 0.],\n",
       "       [0., 0., 0., 0.],\n",
       "       [0., 0., 0., 0.]])"
      ]
     },
     "execution_count": 51,
     "metadata": {},
     "output_type": "execute_result"
    }
   ],
   "source": [
    "np.zeros((3,4))"
   ]
  },
  {
   "cell_type": "code",
   "execution_count": 52,
   "id": "06e9f13c-2d80-47f7-ba22-408a75c1cff0",
   "metadata": {},
   "outputs": [
    {
     "data": {
      "text/plain": [
       "array([[1., 1., 1., 1., 1.],\n",
       "       [1., 1., 1., 1., 1.],\n",
       "       [1., 1., 1., 1., 1.]])"
      ]
     },
     "execution_count": 52,
     "metadata": {},
     "output_type": "execute_result"
    }
   ],
   "source": [
    "np.ones((3,5))"
   ]
  },
  {
   "cell_type": "code",
   "execution_count": 53,
   "id": "80600e09-0948-405d-a7ef-11cf865fb016",
   "metadata": {},
   "outputs": [
    {
     "data": {
      "text/plain": [
       "array([[8, 8, 8, 8, 8, 8],\n",
       "       [8, 8, 8, 8, 8, 8],\n",
       "       [8, 8, 8, 8, 8, 8],\n",
       "       [8, 8, 8, 8, 8, 8]])"
      ]
     },
     "execution_count": 53,
     "metadata": {},
     "output_type": "execute_result"
    }
   ],
   "source": [
    "np.full((4,6), 8)"
   ]
  },
  {
   "cell_type": "code",
   "execution_count": 54,
   "id": "e55f341a-2dbf-48ec-b406-86e049484b65",
   "metadata": {},
   "outputs": [
    {
     "data": {
      "text/plain": [
       "array([[1., 0., 0., 0., 0.],\n",
       "       [0., 1., 0., 0., 0.],\n",
       "       [0., 0., 1., 0., 0.],\n",
       "       [0., 0., 0., 1., 0.],\n",
       "       [0., 0., 0., 0., 1.]])"
      ]
     },
     "execution_count": 54,
     "metadata": {},
     "output_type": "execute_result"
    }
   ],
   "source": [
    "np.eye(5)"
   ]
  },
  {
   "cell_type": "code",
   "execution_count": 55,
   "id": "303ba7f3-a720-4c7f-adde-dbf3d36d6672",
   "metadata": {},
   "outputs": [
    {
     "data": {
      "text/plain": [
       "array([[1., 0., 0.],\n",
       "       [0., 1., 0.],\n",
       "       [0., 0., 1.]])"
      ]
     },
     "execution_count": 55,
     "metadata": {},
     "output_type": "execute_result"
    }
   ],
   "source": [
    "np.eye(3)"
   ]
  },
  {
   "cell_type": "code",
   "execution_count": 56,
   "id": "83a04cbc-4c04-42fd-92fc-9429aa5a6a86",
   "metadata": {},
   "outputs": [
    {
     "data": {
      "text/plain": [
       "array([ 1, 10, 19, 28, 37, 46, 55, 64, 73, 82, 91])"
      ]
     },
     "execution_count": 56,
     "metadata": {},
     "output_type": "execute_result"
    }
   ],
   "source": [
    "np.arange(1, 100, 9)"
   ]
  },
  {
   "cell_type": "code",
   "execution_count": 57,
   "id": "f7870f66-6359-42d4-80ce-eccfa319fe19",
   "metadata": {},
   "outputs": [
    {
     "data": {
      "text/plain": [
       "array([  1.  ,  25.75,  50.5 ,  75.25, 100.  ])"
      ]
     },
     "execution_count": 57,
     "metadata": {},
     "output_type": "execute_result"
    }
   ],
   "source": [
    "np.linspace(1, 100, 5)"
   ]
  },
  {
   "cell_type": "code",
   "execution_count": 58,
   "id": "f64a4e0e-ac9b-4c25-b667-d941c8eab916",
   "metadata": {},
   "outputs": [],
   "source": [
    "myarr  = np.array([[1,2,3], [4,5,6], [7,8,9], [11,12,13]])"
   ]
  },
  {
   "cell_type": "code",
   "execution_count": 59,
   "id": "fa5810cd-4e7f-4422-afc8-c9206b82f43f",
   "metadata": {},
   "outputs": [
    {
     "data": {
      "text/plain": [
       "array([[ 1,  2,  3],\n",
       "       [ 4,  5,  6],\n",
       "       [ 7,  8,  9],\n",
       "       [11, 12, 13]])"
      ]
     },
     "execution_count": 59,
     "metadata": {},
     "output_type": "execute_result"
    }
   ],
   "source": [
    "myarr"
   ]
  },
  {
   "cell_type": "code",
   "execution_count": 60,
   "id": "becd576d-3804-4a18-bc75-f66a6eead3fc",
   "metadata": {},
   "outputs": [
    {
     "data": {
      "text/plain": [
       "(4, 3)"
      ]
     },
     "execution_count": 60,
     "metadata": {},
     "output_type": "execute_result"
    }
   ],
   "source": [
    "myarr.shape"
   ]
  },
  {
   "cell_type": "code",
   "execution_count": 61,
   "id": "432733af-e884-4f6d-afa5-ea977a53e94f",
   "metadata": {},
   "outputs": [
    {
     "data": {
      "text/plain": [
       "12"
      ]
     },
     "execution_count": 61,
     "metadata": {},
     "output_type": "execute_result"
    }
   ],
   "source": [
    "myarr.size"
   ]
  },
  {
   "cell_type": "code",
   "execution_count": 62,
   "id": "873b843d-261f-4d8c-b5a4-d915d35c06ad",
   "metadata": {},
   "outputs": [
    {
     "data": {
      "text/plain": [
       "2"
      ]
     },
     "execution_count": 62,
     "metadata": {},
     "output_type": "execute_result"
    }
   ],
   "source": [
    "myarr.ndim"
   ]
  },
  {
   "cell_type": "code",
   "execution_count": 63,
   "id": "19eecff6-56ab-4a4a-8d10-dc826700b2c6",
   "metadata": {},
   "outputs": [
    {
     "data": {
      "text/plain": [
       "dtype('int32')"
      ]
     },
     "execution_count": 63,
     "metadata": {},
     "output_type": "execute_result"
    }
   ],
   "source": [
    "myarr.dtype"
   ]
  },
  {
   "cell_type": "code",
   "execution_count": 64,
   "id": "74126f9d-5542-411a-9840-26a9ce0314be",
   "metadata": {},
   "outputs": [],
   "source": [
    "myarr  = np.array([[1,2,3], [4,5,6], [7,8,9], [11,12,13]], dtype = \"float32\")"
   ]
  },
  {
   "cell_type": "code",
   "execution_count": 65,
   "id": "6b4ba930-4904-4c44-b15c-ca3063a4a6ab",
   "metadata": {},
   "outputs": [
    {
     "data": {
      "text/plain": [
       "array([[ 1.,  2.,  3.],\n",
       "       [ 4.,  5.,  6.],\n",
       "       [ 7.,  8.,  9.],\n",
       "       [11., 12., 13.]], dtype=float32)"
      ]
     },
     "execution_count": 65,
     "metadata": {},
     "output_type": "execute_result"
    }
   ],
   "source": [
    "myarr"
   ]
  },
  {
   "cell_type": "code",
   "execution_count": 66,
   "id": "a1d2ca40-0cef-4fed-ae6e-358bce6bf3cc",
   "metadata": {},
   "outputs": [],
   "source": [
    "n = myarr.astype('float64')"
   ]
  },
  {
   "cell_type": "code",
   "execution_count": 67,
   "id": "f286ff68-332a-4143-98da-a5fd9d74cf7e",
   "metadata": {},
   "outputs": [
    {
     "data": {
      "text/plain": [
       "dtype('float64')"
      ]
     },
     "execution_count": 67,
     "metadata": {},
     "output_type": "execute_result"
    }
   ],
   "source": [
    "n.dtype"
   ]
  },
  {
   "cell_type": "code",
   "execution_count": 68,
   "id": "90f850dd-68da-473d-b1fc-ba3e5cba51c3",
   "metadata": {},
   "outputs": [],
   "source": [
    "reshape = myarr.reshape((3,4))"
   ]
  },
  {
   "cell_type": "code",
   "execution_count": 69,
   "id": "8e244b6c-9edb-47cc-bcac-692dd6c9306a",
   "metadata": {},
   "outputs": [
    {
     "data": {
      "text/plain": [
       "array([[ 1.,  2.,  3.,  4.],\n",
       "       [ 5.,  6.,  7.,  8.],\n",
       "       [ 9., 11., 12., 13.]], dtype=float32)"
      ]
     },
     "execution_count": 69,
     "metadata": {},
     "output_type": "execute_result"
    }
   ],
   "source": [
    "reshape"
   ]
  },
  {
   "cell_type": "code",
   "execution_count": 70,
   "id": "0d181f96-b3f5-4ebe-b657-2368b08568ac",
   "metadata": {},
   "outputs": [
    {
     "data": {
      "text/plain": [
       "array([[ 1.,  2.,  3.],\n",
       "       [ 4.,  5.,  6.],\n",
       "       [ 7.,  8.,  9.],\n",
       "       [11., 12., 13.]], dtype=float32)"
      ]
     },
     "execution_count": 70,
     "metadata": {},
     "output_type": "execute_result"
    }
   ],
   "source": [
    "myarr"
   ]
  },
  {
   "cell_type": "code",
   "execution_count": 71,
   "id": "ce511757-d5b0-4b73-a4d0-5ae653f91ab8",
   "metadata": {},
   "outputs": [
    {
     "data": {
      "text/plain": [
       "array([[ 1.,  2.,  3.,  4.,  5.,  6.],\n",
       "       [ 7.,  8.,  9., 11., 12., 13.]], dtype=float32)"
      ]
     },
     "execution_count": 71,
     "metadata": {},
     "output_type": "execute_result"
    }
   ],
   "source": [
    "myarr.reshape((2,6))"
   ]
  },
  {
   "cell_type": "code",
   "execution_count": 72,
   "id": "894d1ba3-4b46-4186-801b-2ceef6d1cc22",
   "metadata": {},
   "outputs": [
    {
     "data": {
      "text/plain": [
       "array([ 1.,  2.,  3.,  4.,  5.,  6.,  7.,  8.,  9., 11., 12., 13.],\n",
       "      dtype=float32)"
      ]
     },
     "execution_count": 72,
     "metadata": {},
     "output_type": "execute_result"
    }
   ],
   "source": [
    "myarr.flatten()"
   ]
  },
  {
   "cell_type": "code",
   "execution_count": null,
   "id": "5e3f7d2c-8c04-441b-8aea-d0bee9e8194e",
   "metadata": {},
   "outputs": [],
   "source": []
  }
 ],
 "metadata": {
  "kernelspec": {
   "display_name": "base",
   "language": "python",
   "name": "python3"
  },
  "language_info": {
   "codemirror_mode": {
    "name": "ipython",
    "version": 3
   },
   "file_extension": ".py",
   "mimetype": "text/x-python",
   "name": "python",
   "nbconvert_exporter": "python",
   "pygments_lexer": "ipython3",
   "version": "3.12.7"
  }
 },
 "nbformat": 4,
 "nbformat_minor": 5
}
