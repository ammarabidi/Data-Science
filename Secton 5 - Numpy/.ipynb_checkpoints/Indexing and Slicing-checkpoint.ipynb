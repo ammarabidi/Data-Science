{
 "cells": [
  {
   "cell_type": "code",
   "execution_count": 2,
   "id": "0228d615-f501-4814-b425-793e06122e90",
   "metadata": {},
   "outputs": [],
   "source": [
    "import numpy as np"
   ]
  },
  {
   "cell_type": "code",
   "execution_count": 4,
   "id": "8b2465c3-960f-4510-b8cc-2e24d2254c78",
   "metadata": {},
   "outputs": [],
   "source": [
    "arr  = np.array([[1,2,3], [4,5,6], [7,8,9], [11,12,13]])"
   ]
  },
  {
   "cell_type": "code",
   "execution_count": 6,
   "id": "b324ddc4-57b5-4f5e-80df-79e2ec4e3184",
   "metadata": {},
   "outputs": [
    {
     "data": {
      "text/plain": [
       "array([[ 1,  2,  3],\n",
       "       [ 4,  5,  6],\n",
       "       [ 7,  8,  9],\n",
       "       [11, 12, 13]])"
      ]
     },
     "execution_count": 6,
     "metadata": {},
     "output_type": "execute_result"
    }
   ],
   "source": [
    "arr"
   ]
  },
  {
   "cell_type": "code",
   "execution_count": 8,
   "id": "8b83640e-9e14-49d9-b45d-d283a071f40d",
   "metadata": {},
   "outputs": [],
   "source": [
    "flat = arr.flatten()"
   ]
  },
  {
   "cell_type": "code",
   "execution_count": 10,
   "id": "5aa007de-f803-4f02-a358-1e9e01ba6141",
   "metadata": {},
   "outputs": [
    {
     "data": {
      "text/plain": [
       "array([ 1,  2,  3,  4,  5,  6,  7,  8,  9, 11, 12, 13])"
      ]
     },
     "execution_count": 10,
     "metadata": {},
     "output_type": "execute_result"
    }
   ],
   "source": [
    "flat"
   ]
  },
  {
   "cell_type": "code",
   "execution_count": 14,
   "id": "c0dfa43d-dfcb-4793-ac19-6a2965915d4e",
   "metadata": {},
   "outputs": [
    {
     "data": {
      "text/plain": [
       "1"
      ]
     },
     "execution_count": 14,
     "metadata": {},
     "output_type": "execute_result"
    }
   ],
   "source": [
    "flat[0]"
   ]
  },
  {
   "cell_type": "code",
   "execution_count": 16,
   "id": "7f90293d-3112-4bb4-8b75-30b454b7c1c8",
   "metadata": {},
   "outputs": [
    {
     "data": {
      "text/plain": [
       "4"
      ]
     },
     "execution_count": 16,
     "metadata": {},
     "output_type": "execute_result"
    }
   ],
   "source": [
    "flat[3]"
   ]
  },
  {
   "cell_type": "code",
   "execution_count": 22,
   "id": "a6a7a932-c9df-4d74-98f0-6cf2b1b77720",
   "metadata": {},
   "outputs": [
    {
     "data": {
      "text/plain": [
       "array([1, 2, 3, 4, 5])"
      ]
     },
     "execution_count": 22,
     "metadata": {},
     "output_type": "execute_result"
    }
   ],
   "source": [
    "flat[:5]"
   ]
  },
  {
   "cell_type": "code",
   "execution_count": 24,
   "id": "29ace68f-017d-4d41-992a-462b66cf7749",
   "metadata": {},
   "outputs": [
    {
     "data": {
      "text/plain": [
       "array([ 4,  5,  6,  7,  8,  9, 11, 12, 13])"
      ]
     },
     "execution_count": 24,
     "metadata": {},
     "output_type": "execute_result"
    }
   ],
   "source": [
    "flat[3:]"
   ]
  },
  {
   "cell_type": "code",
   "execution_count": 26,
   "id": "f26f5dca-358d-4988-9bf2-3a5313a43314",
   "metadata": {},
   "outputs": [
    {
     "name": "stdout",
     "output_type": "stream",
     "text": [
      "[ 1  3  5  7  9 12]\n"
     ]
    }
   ],
   "source": [
    "print(flat[::2])  #  (every 2nd element)"
   ]
  },
  {
   "cell_type": "code",
   "execution_count": 30,
   "id": "0a15836a-0e81-4df8-83e1-9f9671f0c3cb",
   "metadata": {},
   "outputs": [],
   "source": [
    "b = flat[3:7].copy() # this is not a slice because we are using  copy method to get the copy"
   ]
  },
  {
   "cell_type": "code",
   "execution_count": 32,
   "id": "1cab4b64-fb55-4fd7-9536-8b7d5ecabd8f",
   "metadata": {},
   "outputs": [
    {
     "data": {
      "text/plain": [
       "array([4, 5, 6, 7])"
      ]
     },
     "execution_count": 32,
     "metadata": {},
     "output_type": "execute_result"
    }
   ],
   "source": [
    "b"
   ]
  },
  {
   "cell_type": "code",
   "execution_count": 34,
   "id": "7413a685-2c87-416c-9570-f39ae0973717",
   "metadata": {},
   "outputs": [],
   "source": [
    "b[0] = 44444"
   ]
  },
  {
   "cell_type": "code",
   "execution_count": 36,
   "id": "7a987893-7975-4e5e-998b-60c37f39b362",
   "metadata": {},
   "outputs": [
    {
     "data": {
      "text/plain": [
       "array([44444,     5,     6,     7])"
      ]
     },
     "execution_count": 36,
     "metadata": {},
     "output_type": "execute_result"
    }
   ],
   "source": [
    "b"
   ]
  },
  {
   "cell_type": "code",
   "execution_count": 38,
   "id": "cae71104-e3b2-4ccd-8a6d-bddeaa96b729",
   "metadata": {},
   "outputs": [
    {
     "data": {
      "text/plain": [
       "array([    1,     2,     3, 44444,     5,     6,     7,     8,     9,\n",
       "          11,    12,    13])"
      ]
     },
     "execution_count": 38,
     "metadata": {},
     "output_type": "execute_result"
    }
   ],
   "source": [
    "flat"
   ]
  },
  {
   "cell_type": "code",
   "execution_count": 42,
   "id": "2e1301ed-c166-40c0-b9e5-d1d3dc1071ed",
   "metadata": {},
   "outputs": [],
   "source": [
    "arr = np.array([1,54,23,53,2,3,34,5,6])"
   ]
  },
  {
   "cell_type": "code",
   "execution_count": 44,
   "id": "53111859-70c9-4a35-a833-5d90ec391d1b",
   "metadata": {},
   "outputs": [
    {
     "data": {
      "text/plain": [
       "array([54,  2, 34])"
      ]
     },
     "execution_count": 44,
     "metadata": {},
     "output_type": "execute_result"
    }
   ],
   "source": [
    "arr[[1,4,6]]"
   ]
  },
  {
   "cell_type": "code",
   "execution_count": 46,
   "id": "64f19d98-d82b-4aca-a5c3-c395371f06af",
   "metadata": {},
   "outputs": [
    {
     "data": {
      "text/plain": [
       "array([54, 23, 53, 34,  5,  6])"
      ]
     },
     "execution_count": 46,
     "metadata": {},
     "output_type": "execute_result"
    }
   ],
   "source": [
    "arr[arr>3]"
   ]
  },
  {
   "cell_type": "code",
   "execution_count": 48,
   "id": "5d6111cf-807e-42a5-82bb-d1c0017bbb60",
   "metadata": {},
   "outputs": [
    {
     "data": {
      "text/plain": [
       "array([54, 53, 34])"
      ]
     },
     "execution_count": 48,
     "metadata": {},
     "output_type": "execute_result"
    }
   ],
   "source": [
    "arr[arr>23]"
   ]
  },
  {
   "cell_type": "code",
   "execution_count": 65,
   "id": "0344346e-443d-4ed5-a725-fac77e1e852f",
   "metadata": {},
   "outputs": [
    {
     "data": {
      "text/plain": [
       "dtype('float64')"
      ]
     },
     "execution_count": 65,
     "metadata": {},
     "output_type": "execute_result"
    }
   ],
   "source": [
    "floats = np.array([1.1, 2.2, 3.3])\n",
    "floats.dtype"
   ]
  },
  {
   "cell_type": "code",
   "execution_count": 67,
   "id": "6d497c40-582f-48d3-a81c-f0d1f3cad0ee",
   "metadata": {},
   "outputs": [
    {
     "name": "stdout",
     "output_type": "stream",
     "text": [
      "[1 2 3]\n"
     ]
    }
   ],
   "source": [
    "integers = floats.astype(int)\n",
    "print(integers)"
   ]
  },
  {
   "cell_type": "code",
   "execution_count": 69,
   "id": "c5742ff5-53ff-4528-9d6d-096b9810dbd2",
   "metadata": {},
   "outputs": [
    {
     "data": {
      "text/plain": [
       "dtype('int32')"
      ]
     },
     "execution_count": 69,
     "metadata": {},
     "output_type": "execute_result"
    }
   ],
   "source": [
    "integers.dtype"
   ]
  }
 ],
 "metadata": {
  "kernelspec": {
   "display_name": "Python [conda env:base] *",
   "language": "python",
   "name": "conda-base-py"
  },
  "language_info": {
   "codemirror_mode": {
    "name": "ipython",
    "version": 3
   },
   "file_extension": ".py",
   "mimetype": "text/x-python",
   "name": "python",
   "nbconvert_exporter": "python",
   "pygments_lexer": "ipython3",
   "version": "3.12.7"
  }
 },
 "nbformat": 4,
 "nbformat_minor": 5
}
