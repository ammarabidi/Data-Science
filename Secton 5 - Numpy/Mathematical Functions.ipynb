{
 "cells": [
  {
   "cell_type": "code",
   "execution_count": 14,
   "id": "049c018a-c431-4246-96c8-3eca2fe20136",
   "metadata": {},
   "outputs": [],
   "source": [
    "import numpy as np"
   ]
  },
  {
   "cell_type": "code",
   "execution_count": 15,
   "id": "d3dbf2cc-6ac3-4c75-8fec-a631558dd3a8",
   "metadata": {},
   "outputs": [],
   "source": [
    "arr = np.array([3,5,2,33,2,1,10,1])"
   ]
  },
  {
   "cell_type": "code",
   "execution_count": 16,
   "id": "15840e22-c571-4aae-9378-995a33caacb1",
   "metadata": {},
   "outputs": [
    {
     "data": {
      "text/plain": [
       "7.125"
      ]
     },
     "execution_count": 16,
     "metadata": {},
     "output_type": "execute_result"
    }
   ],
   "source": [
    "np.mean(arr)"
   ]
  },
  {
   "cell_type": "code",
   "execution_count": 17,
   "id": "20a7fa58-1470-40dc-a4c3-78f246ce6beb",
   "metadata": {},
   "outputs": [
    {
     "data": {
      "text/plain": [
       "1"
      ]
     },
     "execution_count": 17,
     "metadata": {},
     "output_type": "execute_result"
    }
   ],
   "source": [
    "np.min(arr)"
   ]
  },
  {
   "cell_type": "code",
   "execution_count": 18,
   "id": "f0f3b62e-31fe-4017-ad23-5be748d57f7c",
   "metadata": {},
   "outputs": [
    {
     "data": {
      "text/plain": [
       "10.16658128379447"
      ]
     },
     "execution_count": 18,
     "metadata": {},
     "output_type": "execute_result"
    }
   ],
   "source": [
    "np.std(arr)"
   ]
  },
  {
   "cell_type": "code",
   "execution_count": 19,
   "id": "8201b074-5551-4d74-907a-6e250b3bd8cf",
   "metadata": {},
   "outputs": [
    {
     "data": {
      "text/plain": [
       "33"
      ]
     },
     "execution_count": 19,
     "metadata": {},
     "output_type": "execute_result"
    }
   ],
   "source": [
    "np.max(arr)"
   ]
  },
  {
   "cell_type": "code",
   "execution_count": 20,
   "id": "b9790656-b5ef-4790-a0db-1d9eae0599dd",
   "metadata": {},
   "outputs": [
    {
     "data": {
      "text/plain": [
       "19800"
      ]
     },
     "execution_count": 20,
     "metadata": {},
     "output_type": "execute_result"
    }
   ],
   "source": [
    "np.product(arr)"
   ]
  },
  {
   "cell_type": "code",
   "execution_count": 21,
   "id": "ded6f7e6-259f-40a4-9072-58a1834c0e2d",
   "metadata": {},
   "outputs": [
    {
     "data": {
      "text/plain": [
       "103.359375"
      ]
     },
     "execution_count": 21,
     "metadata": {},
     "output_type": "execute_result"
    }
   ],
   "source": [
    "np.var(arr)"
   ]
  },
  {
   "cell_type": "code",
   "execution_count": 22,
   "id": "5cf61166-3362-4e62-b435-c0b958c8b67d",
   "metadata": {},
   "outputs": [
    {
     "data": {
      "text/plain": [
       "5"
      ]
     },
     "execution_count": 22,
     "metadata": {},
     "output_type": "execute_result"
    }
   ],
   "source": [
    "np.argmin(arr) #index of smallest no."
   ]
  },
  {
   "cell_type": "code",
   "execution_count": 23,
   "id": "c9cf2b2f-3d60-4bf1-80b6-722745cd36bc",
   "metadata": {},
   "outputs": [
    {
     "data": {
      "text/plain": [
       "3"
      ]
     },
     "execution_count": 23,
     "metadata": {},
     "output_type": "execute_result"
    }
   ],
   "source": [
    "np.argmax(arr) #index of largest no."
   ]
  },
  {
   "cell_type": "code",
   "execution_count": 24,
   "id": "64c1d217-8724-4ee9-ad3b-f78d68746830",
   "metadata": {},
   "outputs": [
    {
     "data": {
      "text/plain": [
       "array([ 1,  2,  3,  5, 10, 33])"
      ]
     },
     "execution_count": 24,
     "metadata": {},
     "output_type": "execute_result"
    }
   ],
   "source": [
    "np.unique(arr)"
   ]
  },
  {
   "cell_type": "code",
   "execution_count": 25,
   "id": "ba46ab35-c4fb-48ef-ad50-99167ed523cc",
   "metadata": {},
   "outputs": [
    {
     "data": {
      "text/plain": [
       "array([  2,  -3,  31, -31,  -1,   9,  -9])"
      ]
     },
     "execution_count": 25,
     "metadata": {},
     "output_type": "execute_result"
    }
   ],
   "source": [
    "np.diff(arr)"
   ]
  },
  {
   "cell_type": "code",
   "execution_count": 26,
   "id": "ade5265b-c443-453e-997f-599776ece9aa",
   "metadata": {},
   "outputs": [
    {
     "data": {
      "text/plain": [
       "array([ 3,  8, 10, 43, 45, 46, 56, 57])"
      ]
     },
     "execution_count": 26,
     "metadata": {},
     "output_type": "execute_result"
    }
   ],
   "source": [
    "np.cumsum(arr)"
   ]
  },
  {
   "cell_type": "code",
   "execution_count": null,
   "id": "d45e8f85-6f80-43c1-8eb2-e33095aa7b24",
   "metadata": {},
   "outputs": [],
   "source": []
  }
 ],
 "metadata": {
  "kernelspec": {
   "display_name": "base",
   "language": "python",
   "name": "python3"
  },
  "language_info": {
   "codemirror_mode": {
    "name": "ipython",
    "version": 3
   },
   "file_extension": ".py",
   "mimetype": "text/x-python",
   "name": "python",
   "nbconvert_exporter": "python",
   "pygments_lexer": "ipython3",
   "version": "3.12.7"
  }
 },
 "nbformat": 4,
 "nbformat_minor": 5
}
