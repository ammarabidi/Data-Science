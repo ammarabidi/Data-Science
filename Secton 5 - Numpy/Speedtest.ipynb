{
 "cells": [
  {
   "cell_type": "code",
   "execution_count": 19,
   "id": "e62cd043-d22b-43c3-9e43-fc1a63fdaf3d",
   "metadata": {},
   "outputs": [
    {
     "name": "stdout",
     "output_type": "stream",
     "text": [
      "[0, 2, 4, 6, 8, 10, 12, 14, 16, 18]\n",
      "0.10512542724609375\n"
     ]
    }
   ],
   "source": [
    "# Using python list\n",
    "import numpy as np\n",
    "import time\n",
    "\n",
    "size = 1_000_000\n",
    "start = time.time()\n",
    "l1 = list(range(size))\n",
    "l2 = list(range(size))\n",
    "\n",
    "start = time.time()\n",
    "add = [x+y for x,y in zip(l1, l2)]\n",
    "end = time.time()\n",
    "print(add[0:10])\n",
    "\n",
    "print(end - start)"
   ]
  },
  {
   "cell_type": "code",
   "execution_count": 20,
   "id": "7d36ad98-90c6-4553-ba99-69bfed9100d3",
   "metadata": {},
   "outputs": [
    {
     "name": "stdout",
     "output_type": "stream",
     "text": [
      "[ 0  2  4  6  8 10 12 14 16 18]\n",
      "0.013864755630493164\n"
     ]
    }
   ],
   "source": [
    "# Using Numpy arrays\n",
    "import numpy as np\n",
    "import time\n",
    "\n",
    "size = 1_000_000\n",
    "start = time.time()\n",
    "l1 = np.array(list(range(size)))\n",
    "l2 = np.array(list(range(size))) \n",
    "\n",
    "start = time.time()\n",
    "add = l1 + l2\n",
    "print(add[0:10])\n",
    "end = time.time()\n",
    "\n",
    "print(end - start)"
   ]
  },
  {
   "cell_type": "code",
   "execution_count": 21,
   "id": "eb8d3d7a-441c-45aa-8b17-04bd4cb49ebe",
   "metadata": {},
   "outputs": [],
   "source": [
    "l1 = [1, 2, 4]"
   ]
  },
  {
   "cell_type": "code",
   "execution_count": 22,
   "id": "531b18d0-3829-4404-8f6c-171154fe97d5",
   "metadata": {},
   "outputs": [],
   "source": [
    "l2 = [6, 7, 8]"
   ]
  },
  {
   "cell_type": "code",
   "execution_count": 23,
   "id": "41d00158-ffb3-43c2-94a1-17afbee12a86",
   "metadata": {},
   "outputs": [
    {
     "data": {
      "text/plain": [
       "[(1, 6), (2, 7), (4, 8)]"
      ]
     },
     "execution_count": 23,
     "metadata": {},
     "output_type": "execute_result"
    }
   ],
   "source": [
    "list(zip(l1,l2))"
   ]
  },
  {
   "cell_type": "code",
   "execution_count": 24,
   "id": "5e73aa97-95e2-495d-b74d-a4edaaf1bb69",
   "metadata": {},
   "outputs": [
    {
     "data": {
      "text/plain": [
       "array([1, 2, 3, 4, 5])"
      ]
     },
     "execution_count": 24,
     "metadata": {},
     "output_type": "execute_result"
    }
   ],
   "source": [
    "np.array([1,2, 3, 4, 5])"
   ]
  },
  {
   "cell_type": "code",
   "execution_count": 25,
   "id": "b67e2741-489c-452a-9a39-36c8fd17a058",
   "metadata": {},
   "outputs": [],
   "source": [
    "arr = np.array([[1,2,3], [4,5,6]])"
   ]
  },
  {
   "cell_type": "code",
   "execution_count": 26,
   "id": "e747f219-2014-494b-8c67-9b5fec218f77",
   "metadata": {},
   "outputs": [
    {
     "data": {
      "text/plain": [
       "numpy.ndarray"
      ]
     },
     "execution_count": 26,
     "metadata": {},
     "output_type": "execute_result"
    }
   ],
   "source": [
    "type(arr)"
   ]
  },
  {
   "cell_type": "code",
   "execution_count": 27,
   "id": "c8103a4e-0de4-4da6-ba33-46ed3d05315f",
   "metadata": {},
   "outputs": [
    {
     "data": {
      "text/plain": [
       "(2, 3)"
      ]
     },
     "execution_count": 27,
     "metadata": {},
     "output_type": "execute_result"
    }
   ],
   "source": [
    "arr.shape"
   ]
  },
  {
   "cell_type": "code",
   "execution_count": null,
   "id": "cc2b70c9-f62e-4988-96aa-a68e7180a38f",
   "metadata": {},
   "outputs": [],
   "source": []
  }
 ],
 "metadata": {
  "kernelspec": {
   "display_name": "base",
   "language": "python",
   "name": "python3"
  },
  "language_info": {
   "codemirror_mode": {
    "name": "ipython",
    "version": 3
   },
   "file_extension": ".py",
   "mimetype": "text/x-python",
   "name": "python",
   "nbconvert_exporter": "python",
   "pygments_lexer": "ipython3",
   "version": "3.12.7"
  }
 },
 "nbformat": 4,
 "nbformat_minor": 5
}
