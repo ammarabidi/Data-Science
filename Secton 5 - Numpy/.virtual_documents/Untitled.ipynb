import numpy as np


arr = np.array([3,5,2,33,2,1,10,1])


np.mean(arr)


np.min(arr)


np.std(arr)


np.max(arr)


np.product(arr)


np.var(arr)


np.argmin(arr) #index of smallest no.


np.argmax(arr) #index of largest no.


np.unique(arr)


np.diff(arr)


np.cumsum(arr)



