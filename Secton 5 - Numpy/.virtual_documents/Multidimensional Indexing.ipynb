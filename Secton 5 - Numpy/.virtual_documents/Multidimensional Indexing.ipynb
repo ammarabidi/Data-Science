import numpy as np
 
arr = np.array([[1, 2, 3], 
                [4, 5, 6], 
                [7, 8, 9]])
 
print(arr)


arr[0]


arr[1] 


# Accessing axis 1 (columns)
print("Column 0:", arr[:, 0])
print("Column 1:", arr[:, 1])
print("Column 2:", arr[:, 2])





np.sum(arr, axis=0)


np.sum(arr, axis=1)


arr[0][1]


arr[2][2]


arr[0,1]


arr[0:2, 1:3]


arr3D = np.array([[[1, 2, 3], [4, 5, 6]],
                  [[7, 8, 9], [10, 11, 12]]])


print(arr3D.shape) 


# First sheet, second row, third column
print(arr3D[0, 1, 2])  # Output: 6


print(arr3D[:, 0, :])   # Get the first row from both sheets


print(arr3D[:,0,0])


arr3D[:,0,:] = 0
arr3D
